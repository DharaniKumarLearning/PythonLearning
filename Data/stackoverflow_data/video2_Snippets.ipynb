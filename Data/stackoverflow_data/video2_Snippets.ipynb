{
 "cells": [
  {
   "cell_type": "code",
   "execution_count": null,
   "id": "87e0c3ea-bf02-4b00-b085-dfd9bde11686",
   "metadata": {},
   "outputs": [],
   "source": [
    "person = {\n",
    "    \"first\" : \"Dharani\",\n",
    "    \"last\" : \"Kumar\",\n",
    "    \"email\" : \"gopavaram.dharani@gmail.com\"\n",
    "}"
   ]
  },
  {
   "cell_type": "code",
   "execution_count": null,
   "id": "dec6e5a8-6543-475c-94f1-93dfbb8883f9",
   "metadata": {},
   "outputs": [],
   "source": [
    "people = {\n",
    "    \"first\" : [\"Dharani\"],\n",
    "    \"last\" : [\"Kumar\"],\n",
    "    \"email\" : [\"gopavaram.dharani@gmail.com\"]\n",
    "}"
   ]
  },
  {
   "cell_type": "code",
   "execution_count": null,
   "id": "5fc9b3ab-5b52-4a29-aa58-954b7433639c",
   "metadata": {},
   "outputs": [],
   "source": [
    "people = {\n",
    "    \"first\" : [\"Dharani\", \"Moulali\", \"Bharath\"],\n",
    "    \"last\" : [\"Kumar\", \"Naguri\", \"Koramuntla\"],\n",
    "    \"email\" : [\"gopavaram.dharani@gmail.com\", \"moulali.naguri@gmail.com\", \"reddybharath702@gmail.com\"]\n",
    "}"
   ]
  },
  {
   "cell_type": "code",
   "execution_count": null,
   "id": "a29139b7-8df1-43f0-b2e2-ae5c0228fba2",
   "metadata": {},
   "outputs": [],
   "source": [
    "import pandas as pd"
   ]
  },
  {
   "cell_type": "code",
   "execution_count": null,
   "id": "7af9162a-6474-495a-af57-66c27e209cfa",
   "metadata": {},
   "outputs": [],
   "source": [
    "data_df = pd.DataFrame(people)"
   ]
  },
  {
   "cell_type": "code",
   "execution_count": null,
   "id": "4e299442-b731-4608-a9d3-2aed7631bbf5",
   "metadata": {},
   "outputs": [],
   "source": [
    "data_df"
   ]
  },
  {
   "cell_type": "code",
   "execution_count": null,
   "id": "6e0ac7a7-959b-4dd9-962e-3767030bf469",
   "metadata": {},
   "outputs": [],
   "source": [
    "data_df['email']  # accessing a particular column from a dataframe using square bracket notation"
   ]
  },
  {
   "cell_type": "code",
   "execution_count": null,
   "id": "a27ba201-ae75-4234-9b45-a1eabc4d71b3",
   "metadata": {},
   "outputs": [],
   "source": [
    "type(data_df['first'])  # the type if we are selecting only one column from dataframe is series\n",
    "# series is basically a rows of a single column\n",
    "# dataframe is a container for multiple series objects"
   ]
  },
  {
   "cell_type": "code",
   "execution_count": null,
   "id": "5a9d1464-4d2e-4d8a-95e3-de13344fa2de",
   "metadata": {},
   "outputs": [],
   "source": [
    "data_df.email  # accessing a particular column from a dataframe using dot notation\n",
    "# prefer square bracket notation because when we use dot notation it might collide with the inbuilt dataframe attributes"
   ]
  },
  {
   "cell_type": "code",
   "execution_count": null,
   "id": "ef8fbe48-7d60-4148-a556-4ac3c922de61",
   "metadata": {},
   "outputs": [],
   "source": [
    "data_df[['email', 'last']]  # accessing multiple columns from the dataframe\n",
    "# The return type of the above line is another filtered dataframe"
   ]
  },
  {
   "cell_type": "code",
   "execution_count": null,
   "id": "6338e83d-d21d-4db3-9829-559b59c0dbc7",
   "metadata": {},
   "outputs": [],
   "source": [
    "data_df.columns  # returns all the columns present in the dataframe"
   ]
  },
  {
   "cell_type": "code",
   "execution_count": null,
   "id": "52cb074d-7b69-4d98-8c5e-ad505c25430c",
   "metadata": {},
   "outputs": [],
   "source": [
    "# To access rows from a dataframe we can use loc and iloc functions\n",
    "# iloc allow us to access rows by integer location\n",
    "data_df.iloc[1]  # returns the second row in the dataframe"
   ]
  },
  {
   "cell_type": "code",
   "execution_count": null,
   "id": "9647c1e9-9d11-467f-adc2-5fb6da7a4e4d",
   "metadata": {},
   "outputs": [],
   "source": [
    "data_df.iloc[[1,2]]  # accessing multiple rows from a dataframe"
   ]
  },
  {
   "cell_type": "code",
   "execution_count": null,
   "id": "82023916-8957-4ec1-9b93-91503c8ad4ff",
   "metadata": {},
   "outputs": [],
   "source": [
    "data_df.iloc[[0,2], [2,0]]  # accessing multiple rows and multiple columns from a dataframe\n",
    "# iloc only accepts the integers as its arguments"
   ]
  },
  {
   "cell_type": "code",
   "execution_count": null,
   "id": "57e2cf0d-a73d-48d8-9666-82b70d6701d7",
   "metadata": {},
   "outputs": [],
   "source": [
    "data_df.loc[0]  # accessing the first row of the table using index\n",
    "# loc takes a index which is basically 0, 1 and 2 which we see when we display the dataframe"
   ]
  },
  {
   "cell_type": "code",
   "execution_count": null,
   "id": "6b762311-1519-47ca-a514-ae3d1505947a",
   "metadata": {},
   "outputs": [],
   "source": [
    "data_df.loc[[0, 2], \"last\"]  # accessing multiple rows from the dataframe using loc function"
   ]
  },
  {
   "cell_type": "code",
   "execution_count": null,
   "id": "7451c23f-587e-42d5-82f1-bc113764b8ac",
   "metadata": {},
   "outputs": [],
   "source": [
    "data_df.loc[[0,2], [\"email\", \"first\"]]  # accessing multiple rows and columns from dataframe using loc function\n",
    "# To loc function we can't pass the integer values for columns because loc function accepts labels instead of integers"
   ]
  },
  {
   "cell_type": "code",
   "execution_count": null,
   "id": "c08ce4f5-ece1-4c99-b299-3f731bd4c613",
   "metadata": {},
   "outputs": [],
   "source": [
    "data_df.set_index(\"email\")  # setting an index for the dataframe"
   ]
  },
  {
   "cell_type": "code",
   "execution_count": null,
   "id": "1fdb5ad1-8082-4188-8037-684e04f1600c",
   "metadata": {},
   "outputs": [],
   "source": [
    "data_df  # The actual dataframe doesn't get changed\n",
    "# All the operations we perform doesn't actually affect the original dataframe"
   ]
  },
  {
   "cell_type": "code",
   "execution_count": null,
   "id": "a2a7dccf-47b1-4177-b406-c434a7aa1297",
   "metadata": {},
   "outputs": [],
   "source": [
    "data_df.set_index(\"email\", inplace=True)"
   ]
  },
  {
   "cell_type": "code",
   "execution_count": null,
   "id": "e4177f61-eeb7-4066-a03f-8fdadccc846e",
   "metadata": {},
   "outputs": [],
   "source": [
    "data_df"
   ]
  },
  {
   "cell_type": "code",
   "execution_count": null,
   "id": "b6d6ce20-185b-46ca-be8b-a01a7fb89c23",
   "metadata": {},
   "outputs": [],
   "source": [
    "data_df.index  # to know the index of the dataframe"
   ]
  },
  {
   "cell_type": "code",
   "execution_count": null,
   "id": "c2f9d89c-54ff-475b-9419-0fc98e05a938",
   "metadata": {},
   "outputs": [],
   "source": [
    "data_df.loc[\"moulali.naguri@gmail.com\"]  # accessing the details of a particular index value"
   ]
  },
  {
   "cell_type": "code",
   "execution_count": null,
   "id": "4b70c08b-c0e3-4a62-974c-b8ebab154dde",
   "metadata": {},
   "outputs": [],
   "source": [
    "data_df.loc[[\"moulali.naguri@gmail.com\", \"reddybharath702@gmail.com\"], [\"last\"]]  # we can view the specific column if we want\n",
    "# Once we create the index we can't use the integer index to get the rows"
   ]
  },
  {
   "cell_type": "code",
   "execution_count": null,
   "id": "88c9269d-177e-4ce3-86dc-48b77bfec7d4",
   "metadata": {},
   "outputs": [],
   "source": [
    "data_df.iloc[[0,2]]"
   ]
  },
  {
   "cell_type": "code",
   "execution_count": null,
   "id": "c1b04d67-12f1-4d11-bf19-505a4b46f331",
   "metadata": {},
   "outputs": [],
   "source": [
    "data_df.reset_index(inplace=True)"
   ]
  },
  {
   "cell_type": "code",
   "execution_count": null,
   "id": "58f701a0-1ed7-4f43-a083-7a650edd012d",
   "metadata": {},
   "outputs": [],
   "source": [
    "data_df"
   ]
  }
 ],
 "metadata": {
  "kernelspec": {
   "display_name": "Python 3 (ipykernel)",
   "language": "python",
   "name": "python3"
  },
  "language_info": {
   "codemirror_mode": {
    "name": "ipython",
    "version": 3
   },
   "file_extension": ".py",
   "mimetype": "text/x-python",
   "name": "python",
   "nbconvert_exporter": "python",
   "pygments_lexer": "ipython3",
   "version": "3.9.6"
  }
 },
 "nbformat": 4,
 "nbformat_minor": 5
}
