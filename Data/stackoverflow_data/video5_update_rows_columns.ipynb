{
 "cells": [
  {
   "cell_type": "code",
   "execution_count": 1,
   "id": "ed41444b-89df-4da0-810b-c01c80863843",
   "metadata": {},
   "outputs": [],
   "source": [
    "import pandas as pd"
   ]
  },
  {
   "cell_type": "code",
   "execution_count": 2,
   "id": "eac36575-2c49-458a-b4b5-9322a0a4b2e0",
   "metadata": {},
   "outputs": [],
   "source": [
    "people = {\n",
    "    \"first\" : [\"Dharani\", \"Moulali\", \"Bharath\"],\n",
    "    \"last\" : [\"Kumar\", \"Naguri\", \"Koramuntla\"],\n",
    "    \"email\" : [\"gopavaram.dharani@gmail.com\", \"moulali.naguri@gmail.com\", \"reddybharath702@gmail.com\"]\n",
    "}"
   ]
  },
  {
   "cell_type": "code",
   "execution_count": 3,
   "id": "d1e4a664-f872-4186-8caa-ebaa243cc1af",
   "metadata": {},
   "outputs": [],
   "source": [
    "sample_df = pd.DataFrame(people)"
   ]
  },
  {
   "cell_type": "code",
   "execution_count": 4,
   "id": "82b1ebba-9326-42f1-b34e-0f37713c9cb8",
   "metadata": {},
   "outputs": [
    {
     "data": {
      "text/html": [
       "<div>\n",
       "<style scoped>\n",
       "    .dataframe tbody tr th:only-of-type {\n",
       "        vertical-align: middle;\n",
       "    }\n",
       "\n",
       "    .dataframe tbody tr th {\n",
       "        vertical-align: top;\n",
       "    }\n",
       "\n",
       "    .dataframe thead th {\n",
       "        text-align: right;\n",
       "    }\n",
       "</style>\n",
       "<table border=\"1\" class=\"dataframe\">\n",
       "  <thead>\n",
       "    <tr style=\"text-align: right;\">\n",
       "      <th></th>\n",
       "      <th>first</th>\n",
       "      <th>last</th>\n",
       "      <th>email</th>\n",
       "    </tr>\n",
       "  </thead>\n",
       "  <tbody>\n",
       "    <tr>\n",
       "      <th>0</th>\n",
       "      <td>Dharani</td>\n",
       "      <td>Kumar</td>\n",
       "      <td>gopavaram.dharani@gmail.com</td>\n",
       "    </tr>\n",
       "    <tr>\n",
       "      <th>1</th>\n",
       "      <td>Moulali</td>\n",
       "      <td>Naguri</td>\n",
       "      <td>moulali.naguri@gmail.com</td>\n",
       "    </tr>\n",
       "    <tr>\n",
       "      <th>2</th>\n",
       "      <td>Bharath</td>\n",
       "      <td>Koramuntla</td>\n",
       "      <td>reddybharath702@gmail.com</td>\n",
       "    </tr>\n",
       "  </tbody>\n",
       "</table>\n",
       "</div>"
      ],
      "text/plain": [
       "     first        last                        email\n",
       "0  Dharani       Kumar  gopavaram.dharani@gmail.com\n",
       "1  Moulali      Naguri     moulali.naguri@gmail.com\n",
       "2  Bharath  Koramuntla    reddybharath702@gmail.com"
      ]
     },
     "execution_count": 4,
     "metadata": {},
     "output_type": "execute_result"
    }
   ],
   "source": [
    "sample_df"
   ]
  },
  {
   "cell_type": "code",
   "execution_count": 5,
   "id": "9b0d831b-57d5-4bb8-960a-13a998642420",
   "metadata": {},
   "outputs": [
    {
     "data": {
      "text/plain": [
       "Index(['first', 'last', 'email'], dtype='object')"
      ]
     },
     "execution_count": 5,
     "metadata": {},
     "output_type": "execute_result"
    }
   ],
   "source": [
    "sample_df.columns"
   ]
  },
  {
   "cell_type": "code",
   "execution_count": 6,
   "id": "ddf7691d-5bca-4ede-a2ea-a818ead884c9",
   "metadata": {},
   "outputs": [],
   "source": [
    "sample_df.columns = ['first_Name', 'last_Name', 'email']  # To rename all the columns in the dataframe"
   ]
  },
  {
   "cell_type": "code",
   "execution_count": 7,
   "id": "5fe60826-fca8-4847-bb1a-e0171e39a0fb",
   "metadata": {},
   "outputs": [
    {
     "data": {
      "text/plain": [
       "Index(['first_Name', 'last_Name', 'email'], dtype='object')"
      ]
     },
     "execution_count": 7,
     "metadata": {},
     "output_type": "execute_result"
    }
   ],
   "source": [
    "sample_df.columns"
   ]
  },
  {
   "cell_type": "code",
   "execution_count": 8,
   "id": "c88ab9a7-1832-44e6-b9c2-8e449af9bd3d",
   "metadata": {},
   "outputs": [
    {
     "data": {
      "text/html": [
       "<div>\n",
       "<style scoped>\n",
       "    .dataframe tbody tr th:only-of-type {\n",
       "        vertical-align: middle;\n",
       "    }\n",
       "\n",
       "    .dataframe tbody tr th {\n",
       "        vertical-align: top;\n",
       "    }\n",
       "\n",
       "    .dataframe thead th {\n",
       "        text-align: right;\n",
       "    }\n",
       "</style>\n",
       "<table border=\"1\" class=\"dataframe\">\n",
       "  <thead>\n",
       "    <tr style=\"text-align: right;\">\n",
       "      <th></th>\n",
       "      <th>first_Name</th>\n",
       "      <th>last_Name</th>\n",
       "      <th>email</th>\n",
       "    </tr>\n",
       "  </thead>\n",
       "  <tbody>\n",
       "    <tr>\n",
       "      <th>0</th>\n",
       "      <td>Dharani</td>\n",
       "      <td>Kumar</td>\n",
       "      <td>gopavaram.dharani@gmail.com</td>\n",
       "    </tr>\n",
       "    <tr>\n",
       "      <th>1</th>\n",
       "      <td>Moulali</td>\n",
       "      <td>Naguri</td>\n",
       "      <td>moulali.naguri@gmail.com</td>\n",
       "    </tr>\n",
       "    <tr>\n",
       "      <th>2</th>\n",
       "      <td>Bharath</td>\n",
       "      <td>Koramuntla</td>\n",
       "      <td>reddybharath702@gmail.com</td>\n",
       "    </tr>\n",
       "  </tbody>\n",
       "</table>\n",
       "</div>"
      ],
      "text/plain": [
       "  first_Name   last_Name                        email\n",
       "0    Dharani       Kumar  gopavaram.dharani@gmail.com\n",
       "1    Moulali      Naguri     moulali.naguri@gmail.com\n",
       "2    Bharath  Koramuntla    reddybharath702@gmail.com"
      ]
     },
     "execution_count": 8,
     "metadata": {},
     "output_type": "execute_result"
    }
   ],
   "source": [
    "sample_df"
   ]
  },
  {
   "cell_type": "code",
   "execution_count": 8,
   "id": "d89b15c4-4ad3-4eff-a671-615e2f96c36b",
   "metadata": {},
   "outputs": [],
   "source": [
    "sample_df.columns = [name.upper() for name in sample_df.columns]  # We can use list comprehension to update all the names"
   ]
  },
  {
   "cell_type": "code",
   "execution_count": 9,
   "id": "95f1b14b-9b7a-4d9b-a35a-77d85f6ea9ff",
   "metadata": {},
   "outputs": [],
   "source": [
    "sample_df.columns = sample_df.columns.str.replace('_',' ')"
   ]
  },
  {
   "cell_type": "code",
   "execution_count": 10,
   "id": "bc14ea49-4a96-4209-ac61-ebbb5cd40f0d",
   "metadata": {},
   "outputs": [
    {
     "data": {
      "text/html": [
       "<div>\n",
       "<style scoped>\n",
       "    .dataframe tbody tr th:only-of-type {\n",
       "        vertical-align: middle;\n",
       "    }\n",
       "\n",
       "    .dataframe tbody tr th {\n",
       "        vertical-align: top;\n",
       "    }\n",
       "\n",
       "    .dataframe thead th {\n",
       "        text-align: right;\n",
       "    }\n",
       "</style>\n",
       "<table border=\"1\" class=\"dataframe\">\n",
       "  <thead>\n",
       "    <tr style=\"text-align: right;\">\n",
       "      <th></th>\n",
       "      <th>FIRST NAME</th>\n",
       "      <th>LAST NAME</th>\n",
       "      <th>EMAIL</th>\n",
       "    </tr>\n",
       "  </thead>\n",
       "  <tbody>\n",
       "    <tr>\n",
       "      <th>0</th>\n",
       "      <td>Dharani</td>\n",
       "      <td>Kumar</td>\n",
       "      <td>gopavaram.dharani@gmail.com</td>\n",
       "    </tr>\n",
       "    <tr>\n",
       "      <th>1</th>\n",
       "      <td>Moulali</td>\n",
       "      <td>Naguri</td>\n",
       "      <td>moulali.naguri@gmail.com</td>\n",
       "    </tr>\n",
       "    <tr>\n",
       "      <th>2</th>\n",
       "      <td>Bharath</td>\n",
       "      <td>Koramuntla</td>\n",
       "      <td>reddybharath702@gmail.com</td>\n",
       "    </tr>\n",
       "  </tbody>\n",
       "</table>\n",
       "</div>"
      ],
      "text/plain": [
       "  FIRST NAME   LAST NAME                        EMAIL\n",
       "0    Dharani       Kumar  gopavaram.dharani@gmail.com\n",
       "1    Moulali      Naguri     moulali.naguri@gmail.com\n",
       "2    Bharath  Koramuntla    reddybharath702@gmail.com"
      ]
     },
     "execution_count": 10,
     "metadata": {},
     "output_type": "execute_result"
    }
   ],
   "source": [
    "sample_df"
   ]
  },
  {
   "cell_type": "code",
   "execution_count": 12,
   "id": "c438af69-1b92-43bc-928b-70197cc1270a",
   "metadata": {},
   "outputs": [],
   "source": [
    "sample_df.columns = sample_df.columns.str.replace(' ','_')"
   ]
  },
  {
   "cell_type": "code",
   "execution_count": 13,
   "id": "66c3d2d1-a7e2-46eb-995b-4b493cfcfafd",
   "metadata": {},
   "outputs": [
    {
     "data": {
      "text/html": [
       "<div>\n",
       "<style scoped>\n",
       "    .dataframe tbody tr th:only-of-type {\n",
       "        vertical-align: middle;\n",
       "    }\n",
       "\n",
       "    .dataframe tbody tr th {\n",
       "        vertical-align: top;\n",
       "    }\n",
       "\n",
       "    .dataframe thead th {\n",
       "        text-align: right;\n",
       "    }\n",
       "</style>\n",
       "<table border=\"1\" class=\"dataframe\">\n",
       "  <thead>\n",
       "    <tr style=\"text-align: right;\">\n",
       "      <th></th>\n",
       "      <th>FIRST_NAME</th>\n",
       "      <th>LAST_NAME</th>\n",
       "      <th>EMAIL</th>\n",
       "    </tr>\n",
       "  </thead>\n",
       "  <tbody>\n",
       "    <tr>\n",
       "      <th>0</th>\n",
       "      <td>Dharani</td>\n",
       "      <td>Kumar</td>\n",
       "      <td>gopavaram.dharani@gmail.com</td>\n",
       "    </tr>\n",
       "    <tr>\n",
       "      <th>1</th>\n",
       "      <td>Moulali</td>\n",
       "      <td>Naguri</td>\n",
       "      <td>moulali.naguri@gmail.com</td>\n",
       "    </tr>\n",
       "    <tr>\n",
       "      <th>2</th>\n",
       "      <td>Bharath</td>\n",
       "      <td>Koramuntla</td>\n",
       "      <td>reddybharath702@gmail.com</td>\n",
       "    </tr>\n",
       "  </tbody>\n",
       "</table>\n",
       "</div>"
      ],
      "text/plain": [
       "  FIRST_NAME   LAST_NAME                        EMAIL\n",
       "0    Dharani       Kumar  gopavaram.dharani@gmail.com\n",
       "1    Moulali      Naguri     moulali.naguri@gmail.com\n",
       "2    Bharath  Koramuntla    reddybharath702@gmail.com"
      ]
     },
     "execution_count": 13,
     "metadata": {},
     "output_type": "execute_result"
    }
   ],
   "source": [
    "sample_df"
   ]
  },
  {
   "cell_type": "code",
   "execution_count": 11,
   "id": "e68ccc5a-70d8-4690-8cd2-2b5b86d41b1d",
   "metadata": {},
   "outputs": [
    {
     "data": {
      "text/html": [
       "<div>\n",
       "<style scoped>\n",
       "    .dataframe tbody tr th:only-of-type {\n",
       "        vertical-align: middle;\n",
       "    }\n",
       "\n",
       "    .dataframe tbody tr th {\n",
       "        vertical-align: top;\n",
       "    }\n",
       "\n",
       "    .dataframe thead th {\n",
       "        text-align: right;\n",
       "    }\n",
       "</style>\n",
       "<table border=\"1\" class=\"dataframe\">\n",
       "  <thead>\n",
       "    <tr style=\"text-align: right;\">\n",
       "      <th></th>\n",
       "      <th>FIRST NAME</th>\n",
       "      <th>LAST NAME</th>\n",
       "      <th>EMAIL</th>\n",
       "    </tr>\n",
       "  </thead>\n",
       "  <tbody>\n",
       "    <tr>\n",
       "      <th>0</th>\n",
       "      <td>Dharani</td>\n",
       "      <td>Kumar</td>\n",
       "      <td>gopavaram.dharani@gmail.com</td>\n",
       "    </tr>\n",
       "    <tr>\n",
       "      <th>1</th>\n",
       "      <td>Moulali</td>\n",
       "      <td>Naguri</td>\n",
       "      <td>moulali.naguri@gmail.com</td>\n",
       "    </tr>\n",
       "    <tr>\n",
       "      <th>2</th>\n",
       "      <td>Bharath</td>\n",
       "      <td>Koramuntla</td>\n",
       "      <td>reddybharath702@gmail.com</td>\n",
       "    </tr>\n",
       "  </tbody>\n",
       "</table>\n",
       "</div>"
      ],
      "text/plain": [
       "  FIRST NAME   LAST NAME                        EMAIL\n",
       "0    Dharani       Kumar  gopavaram.dharani@gmail.com\n",
       "1    Moulali      Naguri     moulali.naguri@gmail.com\n",
       "2    Bharath  Koramuntla    reddybharath702@gmail.com"
      ]
     },
     "execution_count": 11,
     "metadata": {},
     "output_type": "execute_result"
    }
   ],
   "source": [
    "sample_df.rename(columns={'FIRST_NAME' : 'first', 'LAST_NAME' : 'last'})  # The changes won't get affected in the original dataframe"
   ]
  },
  {
   "cell_type": "code",
   "execution_count": 12,
   "id": "93703eef-8a95-4e36-8c8d-4b0bea1a985d",
   "metadata": {},
   "outputs": [
    {
     "data": {
      "text/html": [
       "<div>\n",
       "<style scoped>\n",
       "    .dataframe tbody tr th:only-of-type {\n",
       "        vertical-align: middle;\n",
       "    }\n",
       "\n",
       "    .dataframe tbody tr th {\n",
       "        vertical-align: top;\n",
       "    }\n",
       "\n",
       "    .dataframe thead th {\n",
       "        text-align: right;\n",
       "    }\n",
       "</style>\n",
       "<table border=\"1\" class=\"dataframe\">\n",
       "  <thead>\n",
       "    <tr style=\"text-align: right;\">\n",
       "      <th></th>\n",
       "      <th>FIRST NAME</th>\n",
       "      <th>LAST NAME</th>\n",
       "      <th>EMAIL</th>\n",
       "    </tr>\n",
       "  </thead>\n",
       "  <tbody>\n",
       "    <tr>\n",
       "      <th>0</th>\n",
       "      <td>Dharani</td>\n",
       "      <td>Kumar</td>\n",
       "      <td>gopavaram.dharani@gmail.com</td>\n",
       "    </tr>\n",
       "    <tr>\n",
       "      <th>1</th>\n",
       "      <td>Moulali</td>\n",
       "      <td>Naguri</td>\n",
       "      <td>moulali.naguri@gmail.com</td>\n",
       "    </tr>\n",
       "    <tr>\n",
       "      <th>2</th>\n",
       "      <td>Bharath</td>\n",
       "      <td>Koramuntla</td>\n",
       "      <td>reddybharath702@gmail.com</td>\n",
       "    </tr>\n",
       "  </tbody>\n",
       "</table>\n",
       "</div>"
      ],
      "text/plain": [
       "  FIRST NAME   LAST NAME                        EMAIL\n",
       "0    Dharani       Kumar  gopavaram.dharani@gmail.com\n",
       "1    Moulali      Naguri     moulali.naguri@gmail.com\n",
       "2    Bharath  Koramuntla    reddybharath702@gmail.com"
      ]
     },
     "execution_count": 12,
     "metadata": {},
     "output_type": "execute_result"
    }
   ],
   "source": [
    "sample_df"
   ]
  },
  {
   "cell_type": "code",
   "execution_count": 13,
   "id": "cd209d85-8ebd-42bf-be84-6b725cc2f91b",
   "metadata": {},
   "outputs": [],
   "source": [
    "sample_df.rename(columns={'FIRST_NAME':'first', 'LAST_NAME' : 'last'}, inplace=True)  \n",
    "# If we use inplace the changes will get affected to the dataframe as well"
   ]
  },
  {
   "cell_type": "code",
   "execution_count": 17,
   "id": "0005716d-9f3a-4861-84f9-09d80978b6ec",
   "metadata": {},
   "outputs": [
    {
     "data": {
      "text/html": [
       "<div>\n",
       "<style scoped>\n",
       "    .dataframe tbody tr th:only-of-type {\n",
       "        vertical-align: middle;\n",
       "    }\n",
       "\n",
       "    .dataframe tbody tr th {\n",
       "        vertical-align: top;\n",
       "    }\n",
       "\n",
       "    .dataframe thead th {\n",
       "        text-align: right;\n",
       "    }\n",
       "</style>\n",
       "<table border=\"1\" class=\"dataframe\">\n",
       "  <thead>\n",
       "    <tr style=\"text-align: right;\">\n",
       "      <th></th>\n",
       "      <th>first</th>\n",
       "      <th>last</th>\n",
       "      <th>EMAIL</th>\n",
       "    </tr>\n",
       "  </thead>\n",
       "  <tbody>\n",
       "    <tr>\n",
       "      <th>0</th>\n",
       "      <td>Dharani</td>\n",
       "      <td>Kumar</td>\n",
       "      <td>gopavaram.dharani@gmail.com</td>\n",
       "    </tr>\n",
       "    <tr>\n",
       "      <th>1</th>\n",
       "      <td>Moulali</td>\n",
       "      <td>Naguri</td>\n",
       "      <td>moulali.naguri@gmail.com</td>\n",
       "    </tr>\n",
       "    <tr>\n",
       "      <th>2</th>\n",
       "      <td>Bharath</td>\n",
       "      <td>Koramuntla</td>\n",
       "      <td>reddybharath702@gmail.com</td>\n",
       "    </tr>\n",
       "  </tbody>\n",
       "</table>\n",
       "</div>"
      ],
      "text/plain": [
       "     first        last                        EMAIL\n",
       "0  Dharani       Kumar  gopavaram.dharani@gmail.com\n",
       "1  Moulali      Naguri     moulali.naguri@gmail.com\n",
       "2  Bharath  Koramuntla    reddybharath702@gmail.com"
      ]
     },
     "execution_count": 17,
     "metadata": {},
     "output_type": "execute_result"
    }
   ],
   "source": [
    "sample_df"
   ]
  },
  {
   "cell_type": "code",
   "execution_count": 14,
   "id": "cbcb9afd-3386-4601-b1e0-713ce6a4409f",
   "metadata": {},
   "outputs": [],
   "source": [
    "sample_df.iloc[2] = ['Bharath', 'Reddi', 'bharath_koramuntla@gmail.com']  # changing all the values for a particular dataframe"
   ]
  },
  {
   "cell_type": "code",
   "execution_count": 15,
   "id": "f9d0effa-3d08-4426-8be7-1fe17196fa2b",
   "metadata": {},
   "outputs": [
    {
     "data": {
      "text/html": [
       "<div>\n",
       "<style scoped>\n",
       "    .dataframe tbody tr th:only-of-type {\n",
       "        vertical-align: middle;\n",
       "    }\n",
       "\n",
       "    .dataframe tbody tr th {\n",
       "        vertical-align: top;\n",
       "    }\n",
       "\n",
       "    .dataframe thead th {\n",
       "        text-align: right;\n",
       "    }\n",
       "</style>\n",
       "<table border=\"1\" class=\"dataframe\">\n",
       "  <thead>\n",
       "    <tr style=\"text-align: right;\">\n",
       "      <th></th>\n",
       "      <th>FIRST NAME</th>\n",
       "      <th>LAST NAME</th>\n",
       "      <th>EMAIL</th>\n",
       "    </tr>\n",
       "  </thead>\n",
       "  <tbody>\n",
       "    <tr>\n",
       "      <th>0</th>\n",
       "      <td>Dharani</td>\n",
       "      <td>Kumar</td>\n",
       "      <td>gopavaram.dharani@gmail.com</td>\n",
       "    </tr>\n",
       "    <tr>\n",
       "      <th>1</th>\n",
       "      <td>Moulali</td>\n",
       "      <td>Naguri</td>\n",
       "      <td>moulali.naguri@gmail.com</td>\n",
       "    </tr>\n",
       "    <tr>\n",
       "      <th>2</th>\n",
       "      <td>Bharath</td>\n",
       "      <td>Reddi</td>\n",
       "      <td>bharath_koramuntla@gmail.com</td>\n",
       "    </tr>\n",
       "  </tbody>\n",
       "</table>\n",
       "</div>"
      ],
      "text/plain": [
       "  FIRST NAME LAST NAME                         EMAIL\n",
       "0    Dharani     Kumar   gopavaram.dharani@gmail.com\n",
       "1    Moulali    Naguri      moulali.naguri@gmail.com\n",
       "2    Bharath     Reddi  bharath_koramuntla@gmail.com"
      ]
     },
     "execution_count": 15,
     "metadata": {},
     "output_type": "execute_result"
    }
   ],
   "source": [
    "sample_df"
   ]
  },
  {
   "cell_type": "code",
   "execution_count": 16,
   "id": "d75af22a-abbc-486f-b112-6bc8c44f1cf3",
   "metadata": {},
   "outputs": [],
   "source": [
    "sample_df.loc[2, [\"last\", \"EMAIL\"]] = [\"Koramuntla\", \"reddybharath702@gmail.com\"]  # changing only the required values in a dataframe row"
   ]
  },
  {
   "cell_type": "code",
   "execution_count": 17,
   "id": "dffeed2c-3349-4ffc-97f1-df7f1465ba63",
   "metadata": {},
   "outputs": [
    {
     "data": {
      "text/html": [
       "<div>\n",
       "<style scoped>\n",
       "    .dataframe tbody tr th:only-of-type {\n",
       "        vertical-align: middle;\n",
       "    }\n",
       "\n",
       "    .dataframe tbody tr th {\n",
       "        vertical-align: top;\n",
       "    }\n",
       "\n",
       "    .dataframe thead th {\n",
       "        text-align: right;\n",
       "    }\n",
       "</style>\n",
       "<table border=\"1\" class=\"dataframe\">\n",
       "  <thead>\n",
       "    <tr style=\"text-align: right;\">\n",
       "      <th></th>\n",
       "      <th>FIRST NAME</th>\n",
       "      <th>LAST NAME</th>\n",
       "      <th>EMAIL</th>\n",
       "      <th>last</th>\n",
       "    </tr>\n",
       "  </thead>\n",
       "  <tbody>\n",
       "    <tr>\n",
       "      <th>0</th>\n",
       "      <td>Dharani</td>\n",
       "      <td>Kumar</td>\n",
       "      <td>gopavaram.dharani@gmail.com</td>\n",
       "      <td>NaN</td>\n",
       "    </tr>\n",
       "    <tr>\n",
       "      <th>1</th>\n",
       "      <td>Moulali</td>\n",
       "      <td>Naguri</td>\n",
       "      <td>moulali.naguri@gmail.com</td>\n",
       "      <td>NaN</td>\n",
       "    </tr>\n",
       "    <tr>\n",
       "      <th>2</th>\n",
       "      <td>Bharath</td>\n",
       "      <td>Reddi</td>\n",
       "      <td>reddybharath702@gmail.com</td>\n",
       "      <td>Koramuntla</td>\n",
       "    </tr>\n",
       "  </tbody>\n",
       "</table>\n",
       "</div>"
      ],
      "text/plain": [
       "  FIRST NAME LAST NAME                        EMAIL        last\n",
       "0    Dharani     Kumar  gopavaram.dharani@gmail.com         NaN\n",
       "1    Moulali    Naguri     moulali.naguri@gmail.com         NaN\n",
       "2    Bharath     Reddi    reddybharath702@gmail.com  Koramuntla"
      ]
     },
     "execution_count": 17,
     "metadata": {},
     "output_type": "execute_result"
    }
   ],
   "source": [
    "sample_df"
   ]
  },
  {
   "cell_type": "code",
   "execution_count": 25,
   "id": "5342dbd8-df43-4b43-971f-f724a7b0d7d4",
   "metadata": {},
   "outputs": [],
   "source": [
    "sample_df.loc[2, \"last\"] = \"Reddi\"  # changing a single column in the dataframe row"
   ]
  },
  {
   "cell_type": "code",
   "execution_count": 26,
   "id": "5f53d1a9-636e-4412-919c-fcbb8e561e5e",
   "metadata": {},
   "outputs": [
    {
     "data": {
      "text/html": [
       "<div>\n",
       "<style scoped>\n",
       "    .dataframe tbody tr th:only-of-type {\n",
       "        vertical-align: middle;\n",
       "    }\n",
       "\n",
       "    .dataframe tbody tr th {\n",
       "        vertical-align: top;\n",
       "    }\n",
       "\n",
       "    .dataframe thead th {\n",
       "        text-align: right;\n",
       "    }\n",
       "</style>\n",
       "<table border=\"1\" class=\"dataframe\">\n",
       "  <thead>\n",
       "    <tr style=\"text-align: right;\">\n",
       "      <th></th>\n",
       "      <th>first</th>\n",
       "      <th>last</th>\n",
       "      <th>EMAIL</th>\n",
       "    </tr>\n",
       "  </thead>\n",
       "  <tbody>\n",
       "    <tr>\n",
       "      <th>0</th>\n",
       "      <td>Dharani</td>\n",
       "      <td>Kumar</td>\n",
       "      <td>gopavaram.dharani@gmail.com</td>\n",
       "    </tr>\n",
       "    <tr>\n",
       "      <th>1</th>\n",
       "      <td>Moulali</td>\n",
       "      <td>Naguri</td>\n",
       "      <td>moulali.naguri@gmail.com</td>\n",
       "    </tr>\n",
       "    <tr>\n",
       "      <th>2</th>\n",
       "      <td>Bharath</td>\n",
       "      <td>Reddi</td>\n",
       "      <td>reddybharath702@gmail.com</td>\n",
       "    </tr>\n",
       "  </tbody>\n",
       "</table>\n",
       "</div>"
      ],
      "text/plain": [
       "     first    last                        EMAIL\n",
       "0  Dharani   Kumar  gopavaram.dharani@gmail.com\n",
       "1  Moulali  Naguri     moulali.naguri@gmail.com\n",
       "2  Bharath   Reddi    reddybharath702@gmail.com"
      ]
     },
     "execution_count": 26,
     "metadata": {},
     "output_type": "execute_result"
    }
   ],
   "source": [
    "sample_df"
   ]
  },
  {
   "cell_type": "code",
   "execution_count": 28,
   "id": "fe79a73b-cbd0-4086-9c0b-b23de01e4425",
   "metadata": {},
   "outputs": [],
   "source": [
    "sample_df.at[2, \"last\"] = \"Koramuntla\"  # If we want to change a single column in the dataframe we can use at method as well"
   ]
  },
  {
   "cell_type": "code",
   "execution_count": 29,
   "id": "5401b489-0fc2-4e27-8bef-d3c48a86d5a7",
   "metadata": {},
   "outputs": [
    {
     "data": {
      "text/html": [
       "<div>\n",
       "<style scoped>\n",
       "    .dataframe tbody tr th:only-of-type {\n",
       "        vertical-align: middle;\n",
       "    }\n",
       "\n",
       "    .dataframe tbody tr th {\n",
       "        vertical-align: top;\n",
       "    }\n",
       "\n",
       "    .dataframe thead th {\n",
       "        text-align: right;\n",
       "    }\n",
       "</style>\n",
       "<table border=\"1\" class=\"dataframe\">\n",
       "  <thead>\n",
       "    <tr style=\"text-align: right;\">\n",
       "      <th></th>\n",
       "      <th>first</th>\n",
       "      <th>last</th>\n",
       "      <th>EMAIL</th>\n",
       "    </tr>\n",
       "  </thead>\n",
       "  <tbody>\n",
       "    <tr>\n",
       "      <th>0</th>\n",
       "      <td>Dharani</td>\n",
       "      <td>Kumar</td>\n",
       "      <td>gopavaram.dharani@gmail.com</td>\n",
       "    </tr>\n",
       "    <tr>\n",
       "      <th>1</th>\n",
       "      <td>Moulali</td>\n",
       "      <td>Naguri</td>\n",
       "      <td>moulali.naguri@gmail.com</td>\n",
       "    </tr>\n",
       "    <tr>\n",
       "      <th>2</th>\n",
       "      <td>Bharath</td>\n",
       "      <td>Koramuntla</td>\n",
       "      <td>reddybharath702@gmail.com</td>\n",
       "    </tr>\n",
       "  </tbody>\n",
       "</table>\n",
       "</div>"
      ],
      "text/plain": [
       "     first        last                        EMAIL\n",
       "0  Dharani       Kumar  gopavaram.dharani@gmail.com\n",
       "1  Moulali      Naguri     moulali.naguri@gmail.com\n",
       "2  Bharath  Koramuntla    reddybharath702@gmail.com"
      ]
     },
     "execution_count": 29,
     "metadata": {},
     "output_type": "execute_result"
    }
   ],
   "source": [
    "sample_df"
   ]
  },
  {
   "cell_type": "code",
   "execution_count": 30,
   "id": "63cd713e-57a5-4a4c-8de8-3858a0ebd2b4",
   "metadata": {},
   "outputs": [],
   "source": [
    "filter_1 = (sample_df['last'] == \"Kumar\") & (sample_df['first'] == \"Dharani\")"
   ]
  },
  {
   "cell_type": "code",
   "execution_count": 39,
   "id": "169eea82-01d7-4e1c-a07c-efa49e5e77a7",
   "metadata": {},
   "outputs": [
    {
     "name": "stderr",
     "output_type": "stream",
     "text": [
      "/var/folders/ys/r7h21r4524l3xvf6bmsdwyv00000gn/T/ipykernel_32055/4222765298.py:1: SettingWithCopyWarning: \n",
      "A value is trying to be set on a copy of a slice from a DataFrame.\n",
      "Try using .loc[row_indexer,col_indexer] = value instead\n",
      "\n",
      "See the caveats in the documentation: https://pandas.pydata.org/pandas-docs/stable/user_guide/indexing.html#returning-a-view-versus-a-copy\n",
      "  sample_df[filter_1][\"EMAIL\"] = \"dharani.gopavaram@gmail.com\"\n"
     ]
    }
   ],
   "source": [
    "sample_df[filter_1][\"EMAIL\"] = \"dharani.gopavaram@gmail.com\"  # this doesn't make the change in the original dataframe"
   ]
  },
  {
   "cell_type": "code",
   "execution_count": 40,
   "id": "872daf56-5e52-418b-b570-8e39322da0e0",
   "metadata": {},
   "outputs": [
    {
     "data": {
      "text/html": [
       "<div>\n",
       "<style scoped>\n",
       "    .dataframe tbody tr th:only-of-type {\n",
       "        vertical-align: middle;\n",
       "    }\n",
       "\n",
       "    .dataframe tbody tr th {\n",
       "        vertical-align: top;\n",
       "    }\n",
       "\n",
       "    .dataframe thead th {\n",
       "        text-align: right;\n",
       "    }\n",
       "</style>\n",
       "<table border=\"1\" class=\"dataframe\">\n",
       "  <thead>\n",
       "    <tr style=\"text-align: right;\">\n",
       "      <th></th>\n",
       "      <th>first</th>\n",
       "      <th>last</th>\n",
       "      <th>EMAIL</th>\n",
       "    </tr>\n",
       "  </thead>\n",
       "  <tbody>\n",
       "    <tr>\n",
       "      <th>0</th>\n",
       "      <td>Dharani</td>\n",
       "      <td>Kumar</td>\n",
       "      <td>gopavaram.dharani@gmail.com</td>\n",
       "    </tr>\n",
       "    <tr>\n",
       "      <th>1</th>\n",
       "      <td>Moulali</td>\n",
       "      <td>Naguri</td>\n",
       "      <td>moulali.naguri@gmail.com</td>\n",
       "    </tr>\n",
       "    <tr>\n",
       "      <th>2</th>\n",
       "      <td>Bharath</td>\n",
       "      <td>Koramuntla</td>\n",
       "      <td>reddybharath702@gmail.com</td>\n",
       "    </tr>\n",
       "  </tbody>\n",
       "</table>\n",
       "</div>"
      ],
      "text/plain": [
       "     first        last                        EMAIL\n",
       "0  Dharani       Kumar  gopavaram.dharani@gmail.com\n",
       "1  Moulali      Naguri     moulali.naguri@gmail.com\n",
       "2  Bharath  Koramuntla    reddybharath702@gmail.com"
      ]
     },
     "execution_count": 40,
     "metadata": {},
     "output_type": "execute_result"
    }
   ],
   "source": [
    "sample_df"
   ]
  },
  {
   "cell_type": "code",
   "execution_count": 43,
   "id": "791bba5b-5a43-4d0c-8634-96164a2354da",
   "metadata": {},
   "outputs": [],
   "source": [
    "sample_df.loc[filter_1,\"EMAIL\"] = \"Dharani.gopavaram@gmail.com\"  # to update the dataframe correctly use the loc function"
   ]
  },
  {
   "cell_type": "code",
   "execution_count": 44,
   "id": "e2f63a55-0177-48c5-9e1a-0bd03eca2768",
   "metadata": {},
   "outputs": [
    {
     "data": {
      "text/html": [
       "<div>\n",
       "<style scoped>\n",
       "    .dataframe tbody tr th:only-of-type {\n",
       "        vertical-align: middle;\n",
       "    }\n",
       "\n",
       "    .dataframe tbody tr th {\n",
       "        vertical-align: top;\n",
       "    }\n",
       "\n",
       "    .dataframe thead th {\n",
       "        text-align: right;\n",
       "    }\n",
       "</style>\n",
       "<table border=\"1\" class=\"dataframe\">\n",
       "  <thead>\n",
       "    <tr style=\"text-align: right;\">\n",
       "      <th></th>\n",
       "      <th>first</th>\n",
       "      <th>last</th>\n",
       "      <th>EMAIL</th>\n",
       "    </tr>\n",
       "  </thead>\n",
       "  <tbody>\n",
       "    <tr>\n",
       "      <th>0</th>\n",
       "      <td>Dharani</td>\n",
       "      <td>Kumar</td>\n",
       "      <td>Dharani.gopavaram@gmail.com</td>\n",
       "    </tr>\n",
       "    <tr>\n",
       "      <th>1</th>\n",
       "      <td>Moulali</td>\n",
       "      <td>Naguri</td>\n",
       "      <td>moulali.naguri@gmail.com</td>\n",
       "    </tr>\n",
       "    <tr>\n",
       "      <th>2</th>\n",
       "      <td>Bharath</td>\n",
       "      <td>Koramuntla</td>\n",
       "      <td>reddybharath702@gmail.com</td>\n",
       "    </tr>\n",
       "  </tbody>\n",
       "</table>\n",
       "</div>"
      ],
      "text/plain": [
       "     first        last                        EMAIL\n",
       "0  Dharani       Kumar  Dharani.gopavaram@gmail.com\n",
       "1  Moulali      Naguri     moulali.naguri@gmail.com\n",
       "2  Bharath  Koramuntla    reddybharath702@gmail.com"
      ]
     },
     "execution_count": 44,
     "metadata": {},
     "output_type": "execute_result"
    }
   ],
   "source": [
    "sample_df"
   ]
  },
  {
   "cell_type": "code",
   "execution_count": 51,
   "id": "6f34cc6d-161e-495b-a6c2-7b5e2b89d159",
   "metadata": {},
   "outputs": [],
   "source": [
    "sample_df['EMAIL'] = sample_df['EMAIL'].str.lower()  # To convert all the emails to lowercase"
   ]
  },
  {
   "cell_type": "code",
   "execution_count": 52,
   "id": "93100339-0465-486a-b9a5-5b01923519fb",
   "metadata": {},
   "outputs": [
    {
     "data": {
      "text/html": [
       "<div>\n",
       "<style scoped>\n",
       "    .dataframe tbody tr th:only-of-type {\n",
       "        vertical-align: middle;\n",
       "    }\n",
       "\n",
       "    .dataframe tbody tr th {\n",
       "        vertical-align: top;\n",
       "    }\n",
       "\n",
       "    .dataframe thead th {\n",
       "        text-align: right;\n",
       "    }\n",
       "</style>\n",
       "<table border=\"1\" class=\"dataframe\">\n",
       "  <thead>\n",
       "    <tr style=\"text-align: right;\">\n",
       "      <th></th>\n",
       "      <th>first</th>\n",
       "      <th>last</th>\n",
       "      <th>EMAIL</th>\n",
       "    </tr>\n",
       "  </thead>\n",
       "  <tbody>\n",
       "    <tr>\n",
       "      <th>0</th>\n",
       "      <td>Dharani</td>\n",
       "      <td>Kumar</td>\n",
       "      <td>dharani.gopavaram@gmail.com</td>\n",
       "    </tr>\n",
       "    <tr>\n",
       "      <th>1</th>\n",
       "      <td>Moulali</td>\n",
       "      <td>Naguri</td>\n",
       "      <td>moulali.naguri@gmail.com</td>\n",
       "    </tr>\n",
       "    <tr>\n",
       "      <th>2</th>\n",
       "      <td>Bharath</td>\n",
       "      <td>Koramuntla</td>\n",
       "      <td>reddybharath702@gmail.com</td>\n",
       "    </tr>\n",
       "  </tbody>\n",
       "</table>\n",
       "</div>"
      ],
      "text/plain": [
       "     first        last                        EMAIL\n",
       "0  Dharani       Kumar  dharani.gopavaram@gmail.com\n",
       "1  Moulali      Naguri     moulali.naguri@gmail.com\n",
       "2  Bharath  Koramuntla    reddybharath702@gmail.com"
      ]
     },
     "execution_count": 52,
     "metadata": {},
     "output_type": "execute_result"
    }
   ],
   "source": [
    "sample_df"
   ]
  },
  {
   "cell_type": "code",
   "execution_count": 18,
   "id": "6d986259-1668-496a-9166-ea3ce1b0b2ae",
   "metadata": {},
   "outputs": [
    {
     "data": {
      "text/plain": [
       "0    27\n",
       "1    24\n",
       "2    25\n",
       "Name: EMAIL, dtype: int64"
      ]
     },
     "execution_count": 18,
     "metadata": {},
     "output_type": "execute_result"
    }
   ],
   "source": [
    "sample_df['EMAIL'].apply(len)  # applying len function to all the values in the EMAIL column"
   ]
  },
  {
   "cell_type": "code",
   "execution_count": 19,
   "id": "f530c6cf-96e8-4f57-825a-efb8a9ba95ea",
   "metadata": {},
   "outputs": [],
   "source": [
    "def update_email(email):\n",
    "    return email.upper()"
   ]
  },
  {
   "cell_type": "code",
   "execution_count": 20,
   "id": "ae40fff3-8d38-4f49-8f60-4ec584b8966c",
   "metadata": {},
   "outputs": [
    {
     "data": {
      "text/plain": [
       "0    GOPAVARAM.DHARANI@GMAIL.COM\n",
       "1       MOULALI.NAGURI@GMAIL.COM\n",
       "2      REDDYBHARATH702@GMAIL.COM\n",
       "Name: EMAIL, dtype: object"
      ]
     },
     "execution_count": 20,
     "metadata": {},
     "output_type": "execute_result"
    }
   ],
   "source": [
    "sample_df['EMAIL'].apply(update_email)  # applying the userdefined function to all the values in the EMAIL column"
   ]
  },
  {
   "cell_type": "code",
   "execution_count": 21,
   "id": "396f9506-adcc-4222-af8d-e367499f6bac",
   "metadata": {},
   "outputs": [
    {
     "data": {
      "text/html": [
       "<div>\n",
       "<style scoped>\n",
       "    .dataframe tbody tr th:only-of-type {\n",
       "        vertical-align: middle;\n",
       "    }\n",
       "\n",
       "    .dataframe tbody tr th {\n",
       "        vertical-align: top;\n",
       "    }\n",
       "\n",
       "    .dataframe thead th {\n",
       "        text-align: right;\n",
       "    }\n",
       "</style>\n",
       "<table border=\"1\" class=\"dataframe\">\n",
       "  <thead>\n",
       "    <tr style=\"text-align: right;\">\n",
       "      <th></th>\n",
       "      <th>FIRST NAME</th>\n",
       "      <th>LAST NAME</th>\n",
       "      <th>EMAIL</th>\n",
       "      <th>last</th>\n",
       "    </tr>\n",
       "  </thead>\n",
       "  <tbody>\n",
       "    <tr>\n",
       "      <th>0</th>\n",
       "      <td>Dharani</td>\n",
       "      <td>Kumar</td>\n",
       "      <td>gopavaram.dharani@gmail.com</td>\n",
       "      <td>NaN</td>\n",
       "    </tr>\n",
       "    <tr>\n",
       "      <th>1</th>\n",
       "      <td>Moulali</td>\n",
       "      <td>Naguri</td>\n",
       "      <td>moulali.naguri@gmail.com</td>\n",
       "      <td>NaN</td>\n",
       "    </tr>\n",
       "    <tr>\n",
       "      <th>2</th>\n",
       "      <td>Bharath</td>\n",
       "      <td>Reddi</td>\n",
       "      <td>reddybharath702@gmail.com</td>\n",
       "      <td>Koramuntla</td>\n",
       "    </tr>\n",
       "  </tbody>\n",
       "</table>\n",
       "</div>"
      ],
      "text/plain": [
       "  FIRST NAME LAST NAME                        EMAIL        last\n",
       "0    Dharani     Kumar  gopavaram.dharani@gmail.com         NaN\n",
       "1    Moulali    Naguri     moulali.naguri@gmail.com         NaN\n",
       "2    Bharath     Reddi    reddybharath702@gmail.com  Koramuntla"
      ]
     },
     "execution_count": 21,
     "metadata": {},
     "output_type": "execute_result"
    }
   ],
   "source": [
    "sample_df"
   ]
  },
  {
   "cell_type": "code",
   "execution_count": 22,
   "id": "7cba98a9-afb9-427c-be19-7c4cd05e23d2",
   "metadata": {},
   "outputs": [],
   "source": [
    "people = {\n",
    "    \"first\" : [\"Dharani\", \"Moulali\", \"Bharath\"],\n",
    "    \"last\" : [\"Kumar\", \"Naguri\", \"Koramuntla\"],\n",
    "    \"email\" : [\"gopavaram.dharani@gmail.com\", \"moulali.naguri@gmail.com\", \"reddybharath702@gmail.com\"]\n",
    "}"
   ]
  },
  {
   "cell_type": "code",
   "execution_count": 23,
   "id": "661b46b6-6edb-4e8a-b35d-eb566983c62e",
   "metadata": {},
   "outputs": [],
   "source": [
    "df = pd.DataFrame(people)"
   ]
  },
  {
   "cell_type": "code",
   "execution_count": 24,
   "id": "7deebee0-d859-44b5-8bdb-5373a9dd7d57",
   "metadata": {},
   "outputs": [
    {
     "data": {
      "text/html": [
       "<div>\n",
       "<style scoped>\n",
       "    .dataframe tbody tr th:only-of-type {\n",
       "        vertical-align: middle;\n",
       "    }\n",
       "\n",
       "    .dataframe tbody tr th {\n",
       "        vertical-align: top;\n",
       "    }\n",
       "\n",
       "    .dataframe thead th {\n",
       "        text-align: right;\n",
       "    }\n",
       "</style>\n",
       "<table border=\"1\" class=\"dataframe\">\n",
       "  <thead>\n",
       "    <tr style=\"text-align: right;\">\n",
       "      <th></th>\n",
       "      <th>first</th>\n",
       "      <th>last</th>\n",
       "      <th>email</th>\n",
       "    </tr>\n",
       "  </thead>\n",
       "  <tbody>\n",
       "    <tr>\n",
       "      <th>0</th>\n",
       "      <td>Dharani</td>\n",
       "      <td>Kumar</td>\n",
       "      <td>gopavaram.dharani@gmail.com</td>\n",
       "    </tr>\n",
       "    <tr>\n",
       "      <th>1</th>\n",
       "      <td>Moulali</td>\n",
       "      <td>Naguri</td>\n",
       "      <td>moulali.naguri@gmail.com</td>\n",
       "    </tr>\n",
       "    <tr>\n",
       "      <th>2</th>\n",
       "      <td>Bharath</td>\n",
       "      <td>Koramuntla</td>\n",
       "      <td>reddybharath702@gmail.com</td>\n",
       "    </tr>\n",
       "  </tbody>\n",
       "</table>\n",
       "</div>"
      ],
      "text/plain": [
       "     first        last                        email\n",
       "0  Dharani       Kumar  gopavaram.dharani@gmail.com\n",
       "1  Moulali      Naguri     moulali.naguri@gmail.com\n",
       "2  Bharath  Koramuntla    reddybharath702@gmail.com"
      ]
     },
     "execution_count": 24,
     "metadata": {},
     "output_type": "execute_result"
    }
   ],
   "source": [
    "df"
   ]
  },
  {
   "cell_type": "code",
   "execution_count": 25,
   "id": "e6c95ed3-d04b-41a4-ac2d-c2d13e33832f",
   "metadata": {},
   "outputs": [
    {
     "data": {
      "text/plain": [
       "0    27\n",
       "1    24\n",
       "2    25\n",
       "Name: email, dtype: int64"
      ]
     },
     "execution_count": 25,
     "metadata": {},
     "output_type": "execute_result"
    }
   ],
   "source": [
    "df['email'].apply(len)"
   ]
  },
  {
   "cell_type": "code",
   "execution_count": 26,
   "id": "af205596-f488-4954-957f-2d7879cf5c7d",
   "metadata": {},
   "outputs": [],
   "source": [
    "def update_email(email):\n",
    "    return email.upper()"
   ]
  },
  {
   "cell_type": "code",
   "execution_count": 27,
   "id": "4d98ce92-1511-4774-947d-7b6a409da8ec",
   "metadata": {},
   "outputs": [
    {
     "data": {
      "text/plain": [
       "0    GOPAVARAM.DHARANI@GMAIL.COM\n",
       "1       MOULALI.NAGURI@GMAIL.COM\n",
       "2      REDDYBHARATH702@GMAIL.COM\n",
       "Name: email, dtype: object"
      ]
     },
     "execution_count": 27,
     "metadata": {},
     "output_type": "execute_result"
    }
   ],
   "source": [
    "df['email'].apply(update_email)"
   ]
  },
  {
   "cell_type": "code",
   "execution_count": 28,
   "id": "d8eb1220-c322-4e53-9bf4-fc3be19318e2",
   "metadata": {},
   "outputs": [
    {
     "data": {
      "text/html": [
       "<div>\n",
       "<style scoped>\n",
       "    .dataframe tbody tr th:only-of-type {\n",
       "        vertical-align: middle;\n",
       "    }\n",
       "\n",
       "    .dataframe tbody tr th {\n",
       "        vertical-align: top;\n",
       "    }\n",
       "\n",
       "    .dataframe thead th {\n",
       "        text-align: right;\n",
       "    }\n",
       "</style>\n",
       "<table border=\"1\" class=\"dataframe\">\n",
       "  <thead>\n",
       "    <tr style=\"text-align: right;\">\n",
       "      <th></th>\n",
       "      <th>first</th>\n",
       "      <th>last</th>\n",
       "      <th>email</th>\n",
       "    </tr>\n",
       "  </thead>\n",
       "  <tbody>\n",
       "    <tr>\n",
       "      <th>0</th>\n",
       "      <td>Dharani</td>\n",
       "      <td>Kumar</td>\n",
       "      <td>gopavaram.dharani@gmail.com</td>\n",
       "    </tr>\n",
       "    <tr>\n",
       "      <th>1</th>\n",
       "      <td>Moulali</td>\n",
       "      <td>Naguri</td>\n",
       "      <td>moulali.naguri@gmail.com</td>\n",
       "    </tr>\n",
       "    <tr>\n",
       "      <th>2</th>\n",
       "      <td>Bharath</td>\n",
       "      <td>Koramuntla</td>\n",
       "      <td>reddybharath702@gmail.com</td>\n",
       "    </tr>\n",
       "  </tbody>\n",
       "</table>\n",
       "</div>"
      ],
      "text/plain": [
       "     first        last                        email\n",
       "0  Dharani       Kumar  gopavaram.dharani@gmail.com\n",
       "1  Moulali      Naguri     moulali.naguri@gmail.com\n",
       "2  Bharath  Koramuntla    reddybharath702@gmail.com"
      ]
     },
     "execution_count": 28,
     "metadata": {},
     "output_type": "execute_result"
    }
   ],
   "source": [
    "df"
   ]
  },
  {
   "cell_type": "code",
   "execution_count": null,
   "id": "b25bf299-6d63-49e3-80e1-48451d98d7f1",
   "metadata": {},
   "outputs": [],
   "source": []
  }
 ],
 "metadata": {
  "kernelspec": {
   "display_name": "Python 3 (ipykernel)",
   "language": "python",
   "name": "python3"
  },
  "language_info": {
   "codemirror_mode": {
    "name": "ipython",
    "version": 3
   },
   "file_extension": ".py",
   "mimetype": "text/x-python",
   "name": "python",
   "nbconvert_exporter": "python",
   "pygments_lexer": "ipython3",
   "version": "3.9.6"
  }
 },
 "nbformat": 4,
 "nbformat_minor": 5
}
