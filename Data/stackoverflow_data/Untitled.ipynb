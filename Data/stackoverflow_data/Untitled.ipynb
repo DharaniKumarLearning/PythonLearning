{
 "cells": [
  {
   "cell_type": "code",
   "execution_count": 9,
   "id": "ed41444b-89df-4da0-810b-c01c80863843",
   "metadata": {},
   "outputs": [],
   "source": [
    "import pandas as pd"
   ]
  },
  {
   "cell_type": "code",
   "execution_count": 10,
   "id": "eac36575-2c49-458a-b4b5-9322a0a4b2e0",
   "metadata": {},
   "outputs": [],
   "source": [
    "people = {\n",
    "    \"first\" : [\"Dharani\", \"Moulali\", \"Bharath\"],\n",
    "    \"last\" : [\"Kumar\", \"Naguri\", \"Koramuntla\"],\n",
    "    \"email\" : [\"gopavaram.dharani@gmail.com\", \"moulali.naguri@gmail.com\", \"reddybharath702@gmail.com\"]\n",
    "}"
   ]
  },
  {
   "cell_type": "code",
   "execution_count": 11,
   "id": "d1e4a664-f872-4186-8caa-ebaa243cc1af",
   "metadata": {},
   "outputs": [],
   "source": [
    "sample_df = pd.DataFrame(people)"
   ]
  },
  {
   "cell_type": "code",
   "execution_count": 12,
   "id": "82b1ebba-9326-42f1-b34e-0f37713c9cb8",
   "metadata": {},
   "outputs": [
    {
     "data": {
      "text/html": [
       "<div>\n",
       "<style scoped>\n",
       "    .dataframe tbody tr th:only-of-type {\n",
       "        vertical-align: middle;\n",
       "    }\n",
       "\n",
       "    .dataframe tbody tr th {\n",
       "        vertical-align: top;\n",
       "    }\n",
       "\n",
       "    .dataframe thead th {\n",
       "        text-align: right;\n",
       "    }\n",
       "</style>\n",
       "<table border=\"1\" class=\"dataframe\">\n",
       "  <thead>\n",
       "    <tr style=\"text-align: right;\">\n",
       "      <th></th>\n",
       "      <th>first</th>\n",
       "      <th>last</th>\n",
       "      <th>email</th>\n",
       "    </tr>\n",
       "  </thead>\n",
       "  <tbody>\n",
       "    <tr>\n",
       "      <th>0</th>\n",
       "      <td>Dharani</td>\n",
       "      <td>Kumar</td>\n",
       "      <td>gopavaram.dharani@gmail.com</td>\n",
       "    </tr>\n",
       "    <tr>\n",
       "      <th>1</th>\n",
       "      <td>Moulali</td>\n",
       "      <td>Naguri</td>\n",
       "      <td>moulali.naguri@gmail.com</td>\n",
       "    </tr>\n",
       "    <tr>\n",
       "      <th>2</th>\n",
       "      <td>Bharath</td>\n",
       "      <td>Koramuntla</td>\n",
       "      <td>reddybharath702@gmail.com</td>\n",
       "    </tr>\n",
       "  </tbody>\n",
       "</table>\n",
       "</div>"
      ],
      "text/plain": [
       "     first        last                        email\n",
       "0  Dharani       Kumar  gopavaram.dharani@gmail.com\n",
       "1  Moulali      Naguri     moulali.naguri@gmail.com\n",
       "2  Bharath  Koramuntla    reddybharath702@gmail.com"
      ]
     },
     "execution_count": 12,
     "metadata": {},
     "output_type": "execute_result"
    }
   ],
   "source": [
    "sample_df"
   ]
  },
  {
   "cell_type": "code",
   "execution_count": 13,
   "id": "9b0d831b-57d5-4bb8-960a-13a998642420",
   "metadata": {},
   "outputs": [
    {
     "data": {
      "text/plain": [
       "Index(['first', 'last', 'email'], dtype='object')"
      ]
     },
     "execution_count": 13,
     "metadata": {},
     "output_type": "execute_result"
    }
   ],
   "source": [
    "sample_df.columns"
   ]
  },
  {
   "cell_type": "code",
   "execution_count": 24,
   "id": "ddf7691d-5bca-4ede-a2ea-a818ead884c9",
   "metadata": {},
   "outputs": [],
   "source": [
    "sample_df.columns = ['first_Name', 'last_Name', 'email']  # To rename all the columns in the dataframe"
   ]
  },
  {
   "cell_type": "code",
   "execution_count": 25,
   "id": "5fe60826-fca8-4847-bb1a-e0171e39a0fb",
   "metadata": {},
   "outputs": [
    {
     "data": {
      "text/plain": [
       "Index(['first_Name', 'last_Name', 'email'], dtype='object')"
      ]
     },
     "execution_count": 25,
     "metadata": {},
     "output_type": "execute_result"
    }
   ],
   "source": [
    "sample_df.columns"
   ]
  },
  {
   "cell_type": "code",
   "execution_count": 26,
   "id": "c88ab9a7-1832-44e6-b9c2-8e449af9bd3d",
   "metadata": {},
   "outputs": [
    {
     "data": {
      "text/html": [
       "<div>\n",
       "<style scoped>\n",
       "    .dataframe tbody tr th:only-of-type {\n",
       "        vertical-align: middle;\n",
       "    }\n",
       "\n",
       "    .dataframe tbody tr th {\n",
       "        vertical-align: top;\n",
       "    }\n",
       "\n",
       "    .dataframe thead th {\n",
       "        text-align: right;\n",
       "    }\n",
       "</style>\n",
       "<table border=\"1\" class=\"dataframe\">\n",
       "  <thead>\n",
       "    <tr style=\"text-align: right;\">\n",
       "      <th></th>\n",
       "      <th>first_Name</th>\n",
       "      <th>last_Name</th>\n",
       "      <th>email</th>\n",
       "    </tr>\n",
       "  </thead>\n",
       "  <tbody>\n",
       "    <tr>\n",
       "      <th>0</th>\n",
       "      <td>Dharani</td>\n",
       "      <td>Kumar</td>\n",
       "      <td>gopavaram.dharani@gmail.com</td>\n",
       "    </tr>\n",
       "    <tr>\n",
       "      <th>1</th>\n",
       "      <td>Moulali</td>\n",
       "      <td>Naguri</td>\n",
       "      <td>moulali.naguri@gmail.com</td>\n",
       "    </tr>\n",
       "    <tr>\n",
       "      <th>2</th>\n",
       "      <td>Bharath</td>\n",
       "      <td>Koramuntla</td>\n",
       "      <td>reddybharath702@gmail.com</td>\n",
       "    </tr>\n",
       "  </tbody>\n",
       "</table>\n",
       "</div>"
      ],
      "text/plain": [
       "  first_Name   last_Name                        email\n",
       "0    Dharani       Kumar  gopavaram.dharani@gmail.com\n",
       "1    Moulali      Naguri     moulali.naguri@gmail.com\n",
       "2    Bharath  Koramuntla    reddybharath702@gmail.com"
      ]
     },
     "execution_count": 26,
     "metadata": {},
     "output_type": "execute_result"
    }
   ],
   "source": [
    "sample_df"
   ]
  },
  {
   "cell_type": "code",
   "execution_count": 27,
   "id": "d89b15c4-4ad3-4eff-a671-615e2f96c36b",
   "metadata": {},
   "outputs": [],
   "source": [
    "sample_df.columns = [name.upper() for name in sample_df.columns]  # We can use list comprehension to update all the names"
   ]
  },
  {
   "cell_type": "code",
   "execution_count": 29,
   "id": "95f1b14b-9b7a-4d9b-a35a-77d85f6ea9ff",
   "metadata": {},
   "outputs": [],
   "source": [
    "sample_df.columns = sample_df.columns.str.replace('_',' ')"
   ]
  },
  {
   "cell_type": "code",
   "execution_count": 32,
   "id": "bc14ea49-4a96-4209-ac61-ebbb5cd40f0d",
   "metadata": {},
   "outputs": [
    {
     "data": {
      "text/html": [
       "<div>\n",
       "<style scoped>\n",
       "    .dataframe tbody tr th:only-of-type {\n",
       "        vertical-align: middle;\n",
       "    }\n",
       "\n",
       "    .dataframe tbody tr th {\n",
       "        vertical-align: top;\n",
       "    }\n",
       "\n",
       "    .dataframe thead th {\n",
       "        text-align: right;\n",
       "    }\n",
       "</style>\n",
       "<table border=\"1\" class=\"dataframe\">\n",
       "  <thead>\n",
       "    <tr style=\"text-align: right;\">\n",
       "      <th></th>\n",
       "      <th>FIRST NAME</th>\n",
       "      <th>LAST NAME</th>\n",
       "      <th>EMAIL</th>\n",
       "    </tr>\n",
       "  </thead>\n",
       "  <tbody>\n",
       "    <tr>\n",
       "      <th>0</th>\n",
       "      <td>Dharani</td>\n",
       "      <td>Kumar</td>\n",
       "      <td>gopavaram.dharani@gmail.com</td>\n",
       "    </tr>\n",
       "    <tr>\n",
       "      <th>1</th>\n",
       "      <td>Moulali</td>\n",
       "      <td>Naguri</td>\n",
       "      <td>moulali.naguri@gmail.com</td>\n",
       "    </tr>\n",
       "    <tr>\n",
       "      <th>2</th>\n",
       "      <td>Bharath</td>\n",
       "      <td>Koramuntla</td>\n",
       "      <td>reddybharath702@gmail.com</td>\n",
       "    </tr>\n",
       "  </tbody>\n",
       "</table>\n",
       "</div>"
      ],
      "text/plain": [
       "  FIRST NAME   LAST NAME                        EMAIL\n",
       "0    Dharani       Kumar  gopavaram.dharani@gmail.com\n",
       "1    Moulali      Naguri     moulali.naguri@gmail.com\n",
       "2    Bharath  Koramuntla    reddybharath702@gmail.com"
      ]
     },
     "execution_count": 32,
     "metadata": {},
     "output_type": "execute_result"
    }
   ],
   "source": [
    "sample_df"
   ]
  },
  {
   "cell_type": "code",
   "execution_count": 33,
   "id": "c438af69-1b92-43bc-928b-70197cc1270a",
   "metadata": {},
   "outputs": [],
   "source": [
    "sample_df.columns = sample_df.columns.str.replace(' ','_')"
   ]
  },
  {
   "cell_type": "code",
   "execution_count": 34,
   "id": "66c3d2d1-a7e2-46eb-995b-4b493cfcfafd",
   "metadata": {},
   "outputs": [
    {
     "data": {
      "text/html": [
       "<div>\n",
       "<style scoped>\n",
       "    .dataframe tbody tr th:only-of-type {\n",
       "        vertical-align: middle;\n",
       "    }\n",
       "\n",
       "    .dataframe tbody tr th {\n",
       "        vertical-align: top;\n",
       "    }\n",
       "\n",
       "    .dataframe thead th {\n",
       "        text-align: right;\n",
       "    }\n",
       "</style>\n",
       "<table border=\"1\" class=\"dataframe\">\n",
       "  <thead>\n",
       "    <tr style=\"text-align: right;\">\n",
       "      <th></th>\n",
       "      <th>FIRST_NAME</th>\n",
       "      <th>LAST_NAME</th>\n",
       "      <th>EMAIL</th>\n",
       "    </tr>\n",
       "  </thead>\n",
       "  <tbody>\n",
       "    <tr>\n",
       "      <th>0</th>\n",
       "      <td>Dharani</td>\n",
       "      <td>Kumar</td>\n",
       "      <td>gopavaram.dharani@gmail.com</td>\n",
       "    </tr>\n",
       "    <tr>\n",
       "      <th>1</th>\n",
       "      <td>Moulali</td>\n",
       "      <td>Naguri</td>\n",
       "      <td>moulali.naguri@gmail.com</td>\n",
       "    </tr>\n",
       "    <tr>\n",
       "      <th>2</th>\n",
       "      <td>Bharath</td>\n",
       "      <td>Koramuntla</td>\n",
       "      <td>reddybharath702@gmail.com</td>\n",
       "    </tr>\n",
       "  </tbody>\n",
       "</table>\n",
       "</div>"
      ],
      "text/plain": [
       "  FIRST_NAME   LAST_NAME                        EMAIL\n",
       "0    Dharani       Kumar  gopavaram.dharani@gmail.com\n",
       "1    Moulali      Naguri     moulali.naguri@gmail.com\n",
       "2    Bharath  Koramuntla    reddybharath702@gmail.com"
      ]
     },
     "execution_count": 34,
     "metadata": {},
     "output_type": "execute_result"
    }
   ],
   "source": [
    "sample_df"
   ]
  },
  {
   "cell_type": "code",
   "execution_count": 35,
   "id": "e68ccc5a-70d8-4690-8cd2-2b5b86d41b1d",
   "metadata": {},
   "outputs": [
    {
     "data": {
      "text/html": [
       "<div>\n",
       "<style scoped>\n",
       "    .dataframe tbody tr th:only-of-type {\n",
       "        vertical-align: middle;\n",
       "    }\n",
       "\n",
       "    .dataframe tbody tr th {\n",
       "        vertical-align: top;\n",
       "    }\n",
       "\n",
       "    .dataframe thead th {\n",
       "        text-align: right;\n",
       "    }\n",
       "</style>\n",
       "<table border=\"1\" class=\"dataframe\">\n",
       "  <thead>\n",
       "    <tr style=\"text-align: right;\">\n",
       "      <th></th>\n",
       "      <th>first</th>\n",
       "      <th>last</th>\n",
       "      <th>EMAIL</th>\n",
       "    </tr>\n",
       "  </thead>\n",
       "  <tbody>\n",
       "    <tr>\n",
       "      <th>0</th>\n",
       "      <td>Dharani</td>\n",
       "      <td>Kumar</td>\n",
       "      <td>gopavaram.dharani@gmail.com</td>\n",
       "    </tr>\n",
       "    <tr>\n",
       "      <th>1</th>\n",
       "      <td>Moulali</td>\n",
       "      <td>Naguri</td>\n",
       "      <td>moulali.naguri@gmail.com</td>\n",
       "    </tr>\n",
       "    <tr>\n",
       "      <th>2</th>\n",
       "      <td>Bharath</td>\n",
       "      <td>Koramuntla</td>\n",
       "      <td>reddybharath702@gmail.com</td>\n",
       "    </tr>\n",
       "  </tbody>\n",
       "</table>\n",
       "</div>"
      ],
      "text/plain": [
       "     first        last                        EMAIL\n",
       "0  Dharani       Kumar  gopavaram.dharani@gmail.com\n",
       "1  Moulali      Naguri     moulali.naguri@gmail.com\n",
       "2  Bharath  Koramuntla    reddybharath702@gmail.com"
      ]
     },
     "execution_count": 35,
     "metadata": {},
     "output_type": "execute_result"
    }
   ],
   "source": [
    "sample_df.rename(columns={'FIRST_NAME' : 'first', 'LAST_NAME' : 'last'})  # The changes won't get affected in the original dataframe"
   ]
  },
  {
   "cell_type": "code",
   "execution_count": 37,
   "id": "93703eef-8a95-4e36-8c8d-4b0bea1a985d",
   "metadata": {},
   "outputs": [
    {
     "data": {
      "text/html": [
       "<div>\n",
       "<style scoped>\n",
       "    .dataframe tbody tr th:only-of-type {\n",
       "        vertical-align: middle;\n",
       "    }\n",
       "\n",
       "    .dataframe tbody tr th {\n",
       "        vertical-align: top;\n",
       "    }\n",
       "\n",
       "    .dataframe thead th {\n",
       "        text-align: right;\n",
       "    }\n",
       "</style>\n",
       "<table border=\"1\" class=\"dataframe\">\n",
       "  <thead>\n",
       "    <tr style=\"text-align: right;\">\n",
       "      <th></th>\n",
       "      <th>FIRST_NAME</th>\n",
       "      <th>LAST_NAME</th>\n",
       "      <th>EMAIL</th>\n",
       "    </tr>\n",
       "  </thead>\n",
       "  <tbody>\n",
       "    <tr>\n",
       "      <th>0</th>\n",
       "      <td>Dharani</td>\n",
       "      <td>Kumar</td>\n",
       "      <td>gopavaram.dharani@gmail.com</td>\n",
       "    </tr>\n",
       "    <tr>\n",
       "      <th>1</th>\n",
       "      <td>Moulali</td>\n",
       "      <td>Naguri</td>\n",
       "      <td>moulali.naguri@gmail.com</td>\n",
       "    </tr>\n",
       "    <tr>\n",
       "      <th>2</th>\n",
       "      <td>Bharath</td>\n",
       "      <td>Koramuntla</td>\n",
       "      <td>reddybharath702@gmail.com</td>\n",
       "    </tr>\n",
       "  </tbody>\n",
       "</table>\n",
       "</div>"
      ],
      "text/plain": [
       "  FIRST_NAME   LAST_NAME                        EMAIL\n",
       "0    Dharani       Kumar  gopavaram.dharani@gmail.com\n",
       "1    Moulali      Naguri     moulali.naguri@gmail.com\n",
       "2    Bharath  Koramuntla    reddybharath702@gmail.com"
      ]
     },
     "execution_count": 37,
     "metadata": {},
     "output_type": "execute_result"
    }
   ],
   "source": [
    "sample_df"
   ]
  },
  {
   "cell_type": "code",
   "execution_count": 40,
   "id": "cd209d85-8ebd-42bf-be84-6b725cc2f91b",
   "metadata": {},
   "outputs": [],
   "source": [
    "sample_df.rename(columns={'FIRST_NAME':'first', 'LAST_NAME' : 'last'}, inplace=True)  \n",
    "# If we use inplace the changes will get affected to the dataframe as well"
   ]
  },
  {
   "cell_type": "code",
   "execution_count": 41,
   "id": "0005716d-9f3a-4861-84f9-09d80978b6ec",
   "metadata": {},
   "outputs": [
    {
     "data": {
      "text/html": [
       "<div>\n",
       "<style scoped>\n",
       "    .dataframe tbody tr th:only-of-type {\n",
       "        vertical-align: middle;\n",
       "    }\n",
       "\n",
       "    .dataframe tbody tr th {\n",
       "        vertical-align: top;\n",
       "    }\n",
       "\n",
       "    .dataframe thead th {\n",
       "        text-align: right;\n",
       "    }\n",
       "</style>\n",
       "<table border=\"1\" class=\"dataframe\">\n",
       "  <thead>\n",
       "    <tr style=\"text-align: right;\">\n",
       "      <th></th>\n",
       "      <th>first</th>\n",
       "      <th>last</th>\n",
       "      <th>EMAIL</th>\n",
       "    </tr>\n",
       "  </thead>\n",
       "  <tbody>\n",
       "    <tr>\n",
       "      <th>0</th>\n",
       "      <td>Dharani</td>\n",
       "      <td>Kumar</td>\n",
       "      <td>gopavaram.dharani@gmail.com</td>\n",
       "    </tr>\n",
       "    <tr>\n",
       "      <th>1</th>\n",
       "      <td>Moulali</td>\n",
       "      <td>Naguri</td>\n",
       "      <td>moulali.naguri@gmail.com</td>\n",
       "    </tr>\n",
       "    <tr>\n",
       "      <th>2</th>\n",
       "      <td>Bharath</td>\n",
       "      <td>Koramuntla</td>\n",
       "      <td>reddybharath702@gmail.com</td>\n",
       "    </tr>\n",
       "  </tbody>\n",
       "</table>\n",
       "</div>"
      ],
      "text/plain": [
       "     first        last                        EMAIL\n",
       "0  Dharani       Kumar  gopavaram.dharani@gmail.com\n",
       "1  Moulali      Naguri     moulali.naguri@gmail.com\n",
       "2  Bharath  Koramuntla    reddybharath702@gmail.com"
      ]
     },
     "execution_count": 41,
     "metadata": {},
     "output_type": "execute_result"
    }
   ],
   "source": [
    "sample_df"
   ]
  },
  {
   "cell_type": "code",
   "execution_count": 43,
   "id": "cbcb9afd-3386-4601-b1e0-713ce6a4409f",
   "metadata": {},
   "outputs": [],
   "source": [
    "sample_df.iloc[2] = ['Bharath', 'Reddi', 'bharath_koramuntla@gmail.com']  # changing all the values for a particular dataframe"
   ]
  },
  {
   "cell_type": "code",
   "execution_count": 44,
   "id": "f9d0effa-3d08-4426-8be7-1fe17196fa2b",
   "metadata": {},
   "outputs": [
    {
     "data": {
      "text/html": [
       "<div>\n",
       "<style scoped>\n",
       "    .dataframe tbody tr th:only-of-type {\n",
       "        vertical-align: middle;\n",
       "    }\n",
       "\n",
       "    .dataframe tbody tr th {\n",
       "        vertical-align: top;\n",
       "    }\n",
       "\n",
       "    .dataframe thead th {\n",
       "        text-align: right;\n",
       "    }\n",
       "</style>\n",
       "<table border=\"1\" class=\"dataframe\">\n",
       "  <thead>\n",
       "    <tr style=\"text-align: right;\">\n",
       "      <th></th>\n",
       "      <th>first</th>\n",
       "      <th>last</th>\n",
       "      <th>EMAIL</th>\n",
       "    </tr>\n",
       "  </thead>\n",
       "  <tbody>\n",
       "    <tr>\n",
       "      <th>0</th>\n",
       "      <td>Dharani</td>\n",
       "      <td>Kumar</td>\n",
       "      <td>gopavaram.dharani@gmail.com</td>\n",
       "    </tr>\n",
       "    <tr>\n",
       "      <th>1</th>\n",
       "      <td>Moulali</td>\n",
       "      <td>Naguri</td>\n",
       "      <td>moulali.naguri@gmail.com</td>\n",
       "    </tr>\n",
       "    <tr>\n",
       "      <th>2</th>\n",
       "      <td>Bharath</td>\n",
       "      <td>Reddi</td>\n",
       "      <td>bharath_koramuntla@gmail.com</td>\n",
       "    </tr>\n",
       "  </tbody>\n",
       "</table>\n",
       "</div>"
      ],
      "text/plain": [
       "     first    last                         EMAIL\n",
       "0  Dharani   Kumar   gopavaram.dharani@gmail.com\n",
       "1  Moulali  Naguri      moulali.naguri@gmail.com\n",
       "2  Bharath   Reddi  bharath_koramuntla@gmail.com"
      ]
     },
     "execution_count": 44,
     "metadata": {},
     "output_type": "execute_result"
    }
   ],
   "source": [
    "sample_df"
   ]
  },
  {
   "cell_type": "code",
   "execution_count": null,
   "id": "d75af22a-abbc-486f-b112-6bc8c44f1cf3",
   "metadata": {},
   "outputs": [],
   "source": []
  }
 ],
 "metadata": {
  "kernelspec": {
   "display_name": "Python 3 (ipykernel)",
   "language": "python",
   "name": "python3"
  },
  "language_info": {
   "codemirror_mode": {
    "name": "ipython",
    "version": 3
   },
   "file_extension": ".py",
   "mimetype": "text/x-python",
   "name": "python",
   "nbconvert_exporter": "python",
   "pygments_lexer": "ipython3",
   "version": "3.9.6"
  }
 },
 "nbformat": 4,
 "nbformat_minor": 5
}
